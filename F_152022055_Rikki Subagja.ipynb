{
 "cells": [
  {
   "cell_type": "code",
   "execution_count": 5,
   "metadata": {},
   "outputs": [
    {
     "ename": "ModuleNotFoundError",
     "evalue": "No module named 'pandas'",
     "output_type": "error",
     "traceback": [
      "\u001b[1;31m---------------------------------------------------------------------------\u001b[0m",
      "\u001b[1;31mModuleNotFoundError\u001b[0m                       Traceback (most recent call last)",
      "Cell \u001b[1;32mIn[5], line 1\u001b[0m\n\u001b[1;32m----> 1\u001b[0m \u001b[38;5;28;01mimport\u001b[39;00m \u001b[38;5;21;01mpandas\u001b[39;00m \u001b[38;5;28;01mas\u001b[39;00m \u001b[38;5;21;01mpd\u001b[39;00m\n\u001b[0;32m      3\u001b[0m data \u001b[38;5;241m=\u001b[39m {\u001b[38;5;124m'\u001b[39m\u001b[38;5;124mNama\u001b[39m\u001b[38;5;124m'\u001b[39m: [\u001b[38;5;124m'\u001b[39m\u001b[38;5;124mJohn\u001b[39m\u001b[38;5;124m'\u001b[39m, \u001b[38;5;124m'\u001b[39m\u001b[38;5;124mJane\u001b[39m\u001b[38;5;124m'\u001b[39m, \u001b[38;5;124m'\u001b[39m\u001b[38;5;124mBob\u001b[39m\u001b[38;5;124m'\u001b[39m, \u001b[38;5;124m'\u001b[39m\u001b[38;5;124mAlice\u001b[39m\u001b[38;5;124m'\u001b[39m],\n\u001b[0;32m      4\u001b[0m         \u001b[38;5;124m'\u001b[39m\u001b[38;5;124mUsia\u001b[39m\u001b[38;5;124m'\u001b[39m: [\u001b[38;5;241m25\u001b[39m, \u001b[38;5;241m35\u001b[39m, \u001b[38;5;241m30\u001b[39m, \u001b[38;5;241m28\u001b[39m],\n\u001b[0;32m      5\u001b[0m         \u001b[38;5;124m'\u001b[39m\u001b[38;5;124mGaji\u001b[39m\u001b[38;5;124m'\u001b[39m: [\u001b[38;5;241m50000\u001b[39m, \u001b[38;5;241m60000\u001b[39m, \u001b[38;5;241m70000\u001b[39m, \u001b[38;5;241m55000\u001b[39m]\n\u001b[0;32m      6\u001b[0m         }\n\u001b[0;32m      8\u001b[0m df \u001b[38;5;241m=\u001b[39m pd\u001b[38;5;241m.\u001b[39mDataFrame(data)\n",
      "\u001b[1;31mModuleNotFoundError\u001b[0m: No module named 'pandas'"
     ]
    }
   ],
   "source": [
    "import pandas as pd\n",
    "\n",
    "data = {'Nama': ['John', 'Jane', 'Bob', 'Alice'],\n",
    "        'Usia': [25, 35, 30, 28],\n",
    "        'Gaji': [50000, 60000, 70000, 55000]\n",
    "        }\n",
    "\n",
    "df = pd.DataFrame(data)\n",
    "\n",
    "hitung_gaji = lambda gaji: gaji * 1.05\n",
    "\n",
    "for index, row in df.iterrows():\n",
    "    df.at[index, 'Gaji'] = hitung_gaji(row['Gaji'])\n",
    "\n",
    "    peningkatan_gaji_tambahan = lambda x, usia: x * 1.02 if usia >= 30 else x\n",
    "\n",
    "    for index2, row2 in df.iterrows():\n",
    "        df.at[index2, 'Gaji'] = int(peningkatan_gaji_tambahan(row2['Gaji'], row2['Usia']))\n",
    "\n",
    "print(\"DataFrame setelah diperbarui:\")\n",
    "print(df)"
   ]
  },
  {
   "cell_type": "code",
   "execution_count": 6,
   "metadata": {},
   "outputs": [
    {
     "ename": "ModuleNotFoundError",
     "evalue": "No module named 'pandas'",
     "output_type": "error",
     "traceback": [
      "\u001b[1;31m---------------------------------------------------------------------------\u001b[0m",
      "\u001b[1;31mModuleNotFoundError\u001b[0m                       Traceback (most recent call last)",
      "Cell \u001b[1;32mIn[6], line 1\u001b[0m\n\u001b[1;32m----> 1\u001b[0m \u001b[38;5;28;01mimport\u001b[39;00m \u001b[38;5;21;01mpandas\u001b[39;00m \u001b[38;5;28;01mas\u001b[39;00m \u001b[38;5;21;01mpd\u001b[39;00m\n\u001b[0;32m      3\u001b[0m data \u001b[38;5;241m=\u001b[39m {\u001b[38;5;124m'\u001b[39m\u001b[38;5;124mNama\u001b[39m\u001b[38;5;124m'\u001b[39m: [\u001b[38;5;124m'\u001b[39m\u001b[38;5;124mJohn\u001b[39m\u001b[38;5;124m'\u001b[39m, \u001b[38;5;124m'\u001b[39m\u001b[38;5;124mJane\u001b[39m\u001b[38;5;124m'\u001b[39m, \u001b[38;5;124m'\u001b[39m\u001b[38;5;124mBob\u001b[39m\u001b[38;5;124m'\u001b[39m, \u001b[38;5;124m'\u001b[39m\u001b[38;5;124mAlice\u001b[39m\u001b[38;5;124m'\u001b[39m],\n\u001b[0;32m      4\u001b[0m         \u001b[38;5;124m'\u001b[39m\u001b[38;5;124mUsia\u001b[39m\u001b[38;5;124m'\u001b[39m: [\u001b[38;5;241m25\u001b[39m, \u001b[38;5;241m35\u001b[39m, \u001b[38;5;241m30\u001b[39m, \u001b[38;5;241m28\u001b[39m],\n\u001b[0;32m      5\u001b[0m         \u001b[38;5;124m'\u001b[39m\u001b[38;5;124mGaji\u001b[39m\u001b[38;5;124m'\u001b[39m: [\u001b[38;5;241m50000\u001b[39m, \u001b[38;5;241m60000\u001b[39m, \u001b[38;5;241m70000\u001b[39m, \u001b[38;5;241m55000\u001b[39m]\n\u001b[0;32m      6\u001b[0m         }\n\u001b[0;32m      8\u001b[0m df \u001b[38;5;241m=\u001b[39m pd\u001b[38;5;241m.\u001b[39mDataFrame(data)\n",
      "\u001b[1;31mModuleNotFoundError\u001b[0m: No module named 'pandas'"
     ]
    }
   ],
   "source": [
    "import pandas as pd\n",
    "\n",
    "data = {'Nama': ['John', 'Jane', 'Bob', 'Alice'],\n",
    "        'Usia': [25, 35, 30, 28],\n",
    "        'Gaji': [50000, 60000, 70000, 55000]\n",
    "        }\n",
    "\n",
    "df = pd.DataFrame(data)\n",
    "\n",
    "hitung_gaji = lambda gaji: gaji * 1.05\n",
    "\n",
    "for index, row in df.iterrows():\n",
    "    df.at[index, 'Gaji'] = hitung_gaji(row['Gaji'])\n",
    "\n",
    "    peningkatan_gaji_tambahan = lambda x, usia: x * 1.02 if usia >= 30 else x\n",
    "\n",
    "    for index2, row2 in df.iterrows():\n",
    "        df.at[index2, 'Gaji'] = int(peningkatan_gaji_tambahan(row2['Gaji'], row2['Usia']))\n",
    "\n",
    "print(\"DataFrame setelah diperbarui:\")\n",
    "print(df)"
   ]
  },
  {
   "cell_type": "code",
   "execution_count": null,
   "metadata": {},
   "outputs": [],
   "source": [
    "import pandas as pd\n",
    "\n",
    "data = {'Nama': ['John', 'Jane', 'Bob', 'Alice'],\n",
    "        'Usia': [25, 35, 30, 28],\n",
    "        'Gaji': [50000, 60000, 70000, 55000]\n",
    "        }\n",
    "\n",
    "df = pd.DataFrame(data)\n",
    "\n",
    "hitung_gaji = lambda gaji: gaji * 1.05\n",
    "\n",
    "for index, row in df.iterrows():\n",
    "    df.at[index, 'Gaji'] = hitung_gaji(row['Gaji'])\n",
    "\n",
    "    if row['Usia'] >= 30:\n",
    "        df.at[index, 'Gaji'] *= 1.02\n",
    "\n",
    "print(\"DataFrame setelah diperbarui:\")\n",
    "print(df)\n",
    "\n",
    "print(\"\\nRingkasan Hasil:\")\n",
    "for index, row in df.iterrows():\n",
    "    print(f\"{row['Nama']} = Gaji sebelum: {hitung_gaji(data['Gaji'][index])}, Gaji setelah: {row['Gaji']:.2f}\")\n"
   ]
  }
 ],
 "metadata": {
  "kernelspec": {
   "display_name": "Python 3",
   "language": "python",
   "name": "python3"
  },
  "language_info": {
   "codemirror_mode": {
    "name": "ipython",
    "version": 3
   },
   "file_extension": ".py",
   "mimetype": "text/x-python",
   "name": "python",
   "nbconvert_exporter": "python",
   "pygments_lexer": "ipython3",
   "version": "3.12.0"
  }
 },
 "nbformat": 4,
 "nbformat_minor": 2
}
